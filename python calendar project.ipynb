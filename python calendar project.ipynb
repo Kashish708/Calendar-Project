{
 "cells": [
  {
   "cell_type": "code",
   "execution_count": 12,
   "metadata": {},
   "outputs": [],
   "source": [
    "\n",
    "from tkinter import *\n",
    "import calendar\n",
    "\n",
    "\n",
    "\n",
    "def showCalender():\n",
    "    gui = Tk()  \n",
    "    gui.config(background='pink')\n",
    "    gui.title(\"Calendar for the year\")\n",
    "    gui.geometry(\"550x600\")\n",
    "\n",
    "    year = int(year_field.get())  \n",
    "    gui_content = calendar.calendar(year)\n",
    "\n",
    "    calYear = Label(gui, text=gui_content, font=\"Consolas 10 bold\")  \n",
    "    calYear.grid(row=5, column=1, padx=20)   \n",
    "     \n",
    "\n",
    "    gui.mainloop()  \n",
    "    \n",
    "                    \n",
    "\n",
    "if __name__ == '__main__':                        \n",
    "    new = Tk()\n",
    "    new.config(background='grey')\n",
    "    new.title(\"Calendar\")\n",
    "    new.geometry(\"250x140\")\n",
    "\n",
    "    cal = Label(new, text=\"Calendar\", bg='grey', font=(\"times\", 28, \"bold\" ) )\n",
    "    year = Label(new, text=\"Enter year\", bg = 'white')\n",
    "\n",
    "    year_field = Entry(new)\n",
    "    button = Button(new, text='Show Calendar', bg = 'blue' , fg='pink', command=showCalender)\n",
    "    exit_button = Button(new, text=\"Exit\", command=new.destroy)  \n",
    "\n",
    "    \n",
    "    cal.grid(row=1, column=1)\n",
    "    year.grid(row=2, column=1)\n",
    "    year_field.grid(row=3, column=1)\n",
    "    button.grid(row=4, column=1)\n",
    "\n",
    "   \n",
    "    exit_button.grid(row=6, column=1)\n",
    "\n",
    "    new.mainloop()  "
   ]
  }
 ],
 "metadata": {
  "kernelspec": {
   "display_name": "Python 3",
   "language": "python",
   "name": "python3"
  },
  "language_info": {
   "codemirror_mode": {
    "name": "ipython",
    "version": 3
   },
   "file_extension": ".py",
   "mimetype": "text/x-python",
   "name": "python",
   "nbconvert_exporter": "python",
   "pygments_lexer": "ipython3",
   "version": "3.11.9"
  }
 },
 "nbformat": 4,
 "nbformat_minor": 2
}
